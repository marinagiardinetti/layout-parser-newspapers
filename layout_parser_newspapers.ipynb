{
  "cells": [
    {
      "cell_type": "code",
      "execution_count": 1,
      "metadata": {
        "id": "VfbWFXAUH0l4",
        "colab": {
          "base_uri": "https://localhost:8080/"
        },
        "outputId": "21b39459-6555-467e-adc0-107d3585e201"
      },
      "outputs": [
        {
          "output_type": "stream",
          "name": "stdout",
          "text": [
            "\u001b[33mWARNING: Running pip as the 'root' user can result in broken permissions and conflicting behaviour with the system package manager, possibly rendering your system unusable.It is recommended to use a virtual environment instead: https://pip.pypa.io/warnings/venv. Use the --root-user-action option if you know what you are doing and want to suppress this warning.\u001b[0m\u001b[33m\n",
            "\u001b[0m\u001b[33mWARNING: Running pip as the 'root' user can result in broken permissions and conflicting behaviour with the system package manager, possibly rendering your system unusable.It is recommended to use a virtual environment instead: https://pip.pypa.io/warnings/venv. Use the --root-user-action option if you know what you are doing and want to suppress this warning.\u001b[0m\u001b[33m\n",
            "\u001b[0m\u001b[33mWARNING: Running pip as the 'root' user can result in broken permissions and conflicting behaviour with the system package manager, possibly rendering your system unusable.It is recommended to use a virtual environment instead: https://pip.pypa.io/warnings/venv. Use the --root-user-action option if you know what you are doing and want to suppress this warning.\u001b[0m\u001b[33m\n",
            "\u001b[0m\u001b[33mWARNING: Running pip as the 'root' user can result in broken permissions and conflicting behaviour with the system package manager, possibly rendering your system unusable.It is recommended to use a virtual environment instead: https://pip.pypa.io/warnings/venv. Use the --root-user-action option if you know what you are doing and want to suppress this warning.\u001b[0m\u001b[33m\n",
            "\u001b[0mRequirement already satisfied: Pillow==9.5.0 in /usr/local/lib/python3.10/dist-packages (9.5.0)\n",
            "\u001b[33mWARNING: Running pip as the 'root' user can result in broken permissions and conflicting behaviour with the system package manager, possibly rendering your system unusable.It is recommended to use a virtual environment instead: https://pip.pypa.io/warnings/venv. Use the --root-user-action option if you know what you are doing and want to suppress this warning.\u001b[0m\u001b[33m\n",
            "\u001b[0m2.3.1+cu121\n"
          ]
        }
      ],
      "source": [
        "# Install necessary packages\n",
        "!pip install -q requests\n",
        "!pip install -q --upgrade pip\n",
        "!pip install -q opencv-python\n",
        "!pip install -q torchvision\n",
        "!pip install Pillow==9.5.0\n",
        "\n",
        "# Import necessary libraries\n",
        "import shutil\n",
        "import requests\n",
        "import glob\n",
        "import re\n",
        "import math\n",
        "import json\n",
        "import os\n",
        "import cv2\n",
        "from PIL import Image, UnidentifiedImageError\n",
        "\n",
        "# Import PyTorch and empty the CUDA cache\n",
        "import torch\n",
        "torch.cuda.empty_cache()\n",
        "\n",
        "# Print the PyTorch version\n",
        "print(torch.__version__)\n",
        "\n",
        "import requests\n",
        "\n",
        "# Define the Hugging Face repository and model files\n",
        "repo_id = \"mgiardinetti/layout-parser-newspapers\"\n",
        "config_file = \"config.yaml\"\n",
        "model_file = \"model_final.pth\"\n",
        "\n",
        "# Create a directory to save the model\n",
        "save_directory = \"/content/layout-parser-newspapers\"\n",
        "os.makedirs(save_directory, exist_ok=True)\n",
        "\n",
        "# Download the configuration file\n",
        "config_url = f\"https://huggingface.co/{repo_id}/resolve/main/{config_file}\"\n",
        "config_path = os.path.join(save_directory, config_file)\n",
        "response = requests.get(config_url)\n",
        "with open(config_path, 'wb') as f:\n",
        "    f.write(response.content)\n",
        "\n",
        "# Download the model weights\n",
        "model_url = f\"https://huggingface.co/{repo_id}/resolve/main/{model_file}\"\n",
        "model_path = os.path.join(save_directory, model_file)\n",
        "response = requests.get(model_url)\n",
        "with open(model_path, 'wb') as f:\n",
        "    f.write(response.content)\n"
      ]
    },
    {
      "cell_type": "code",
      "execution_count": 2,
      "metadata": {
        "id": "Oa3ln2dUWyzb",
        "colab": {
          "base_uri": "https://localhost:8080/"
        },
        "outputId": "5efcb21c-a28b-4058-973a-4d2f7fee8fa0"
      },
      "outputs": [
        {
          "output_type": "stream",
          "name": "stdout",
          "text": [
            "Mounted at /content/drive\n",
            "  Preparing metadata (setup.py) ... \u001b[?25l\u001b[?25hdone\n",
            "\u001b[2K     \u001b[90m━━━━━━━━━━━━━━━━━━━━━━━━━━━━━━━━━━━━━━━━\u001b[0m \u001b[32m47.5/47.5 kB\u001b[0m \u001b[31m1.6 MB/s\u001b[0m eta \u001b[36m0:00:00\u001b[0m\n",
            "\u001b[?25h  Preparing metadata (setup.py) ... \u001b[?25l\u001b[?25hdone\n",
            "\u001b[2K     \u001b[90m━━━━━━━━━━━━━━━━━━━━━━━━━━━━━━━━━━━━━━━━\u001b[0m \u001b[32m42.2/42.2 kB\u001b[0m \u001b[31m1.6 MB/s\u001b[0m eta \u001b[36m0:00:00\u001b[0m\n",
            "\u001b[?25h  Preparing metadata (setup.py) ... \u001b[?25l\u001b[?25hdone\n",
            "\u001b[2K     \u001b[90m━━━━━━━━━━━━━━━━━━━━━━━━━━━━━━━━━━━━━━━━\u001b[0m \u001b[32m117.0/117.0 kB\u001b[0m \u001b[31m4.8 MB/s\u001b[0m eta \u001b[36m0:00:00\u001b[0m\n",
            "\u001b[?25h  Preparing metadata (setup.py) ... \u001b[?25l\u001b[?25hdone\n",
            "\u001b[2K   \u001b[90m━━━━━━━━━━━━━━━━━━━━━━━━━━━━━━━━━━━━━━━━\u001b[0m \u001b[32m79.5/79.5 kB\u001b[0m \u001b[31m2.7 MB/s\u001b[0m eta \u001b[36m0:00:00\u001b[0m\n",
            "\u001b[?25h  Building wheel for detectron2 (setup.py) ... \u001b[?25l\u001b[?25hdone\n",
            "  Building wheel for fvcore (setup.py) ... \u001b[?25l\u001b[?25hdone\n",
            "  Building wheel for iopath (setup.py) ... \u001b[?25l\u001b[?25hdone\n",
            "  Building wheel for antlr4-python3-runtime (setup.py) ... \u001b[?25l\u001b[?25hdone\n",
            "\u001b[33mWARNING: Running pip as the 'root' user can result in broken permissions and conflicting behaviour with the system package manager, possibly rendering your system unusable.It is recommended to use a virtual environment instead: https://pip.pypa.io/warnings/venv. Use the --root-user-action option if you know what you are doing and want to suppress this warning.\u001b[0m\u001b[33m\n",
            "\u001b[2K     \u001b[90m━━━━━━━━━━━━━━━━━━━━━━━━━━━━━━━━━━━━━━━━\u001b[0m \u001b[32m40.1/40.1 kB\u001b[0m \u001b[31m1.5 MB/s\u001b[0m eta \u001b[36m0:00:00\u001b[0m\n",
            "\u001b[2K     \u001b[90m━━━━━━━━━━━━━━━━━━━━━━━━━━━━━━━━━━━━━━━━\u001b[0m \u001b[32m48.5/48.5 kB\u001b[0m \u001b[31m1.9 MB/s\u001b[0m eta \u001b[36m0:00:00\u001b[0m\n",
            "\u001b[2K   \u001b[90m━━━━━━━━━━━━━━━━━━━━━━━━━━━━━━━━━━━━━━━━\u001b[0m \u001b[32m19.2/19.2 MB\u001b[0m \u001b[31m73.7 MB/s\u001b[0m eta \u001b[36m0:00:00\u001b[0m\n",
            "\u001b[2K   \u001b[90m━━━━━━━━━━━━━━━━━━━━━━━━━━━━━━━━━━━━━━━━\u001b[0m \u001b[32m58.0/58.0 kB\u001b[0m \u001b[31m3.4 MB/s\u001b[0m eta \u001b[36m0:00:00\u001b[0m\n",
            "\u001b[2K   \u001b[90m━━━━━━━━━━━━━━━━━━━━━━━━━━━━━━━━━━━━━━━━\u001b[0m \u001b[32m5.6/5.6 MB\u001b[0m \u001b[31m83.0 MB/s\u001b[0m eta \u001b[36m0:00:00\u001b[0m\n",
            "\u001b[2K   \u001b[90m━━━━━━━━━━━━━━━━━━━━━━━━━━━━━━━━━━━━━━━━\u001b[0m \u001b[32m2.8/2.8 MB\u001b[0m \u001b[31m71.9 MB/s\u001b[0m eta \u001b[36m0:00:00\u001b[0m\n",
            "\u001b[?25h\u001b[33mWARNING: Running pip as the 'root' user can result in broken permissions and conflicting behaviour with the system package manager, possibly rendering your system unusable.It is recommended to use a virtual environment instead: https://pip.pypa.io/warnings/venv. Use the --root-user-action option if you know what you are doing and want to suppress this warning.\u001b[0m\u001b[33m\n",
            "\u001b[0mModèle importé\n"
          ]
        }
      ],
      "source": [
        "from google.colab import drive\n",
        "drive.mount('/content/drive')\n",
        "\n",
        "# Install and import layoutparser and detectron2\n",
        "!pip install -q 'git+https://github.com/facebookresearch/detectron2.git@v0.4#egg=detectron2'\n",
        "!pip install -q -U layoutparser\n",
        "\n",
        "import layoutparser as lp\n",
        "\n",
        "# Model and configuration file paths\n",
        "model = \"/content/layout-parser-newspapers/model_final.pth\"\n",
        "config = \"/content/layout-parser-newspapers/config.yaml\"\n",
        "\n",
        "# Association id:nom for each class to detect\n",
        "labels = \"0:illustration 1:legende\"\n",
        "\n",
        "# Parse labels\n",
        "dictlabels = {}\n",
        "if labels:\n",
        "    for asso in labels.split(\" \"):\n",
        "        key, value = asso.split(\":\")\n",
        "        dictlabels[int(key)] = value\n",
        "\n",
        "# Load the model\n",
        "try:\n",
        "    if dictlabels:\n",
        "        model = lp.models.Detectron2LayoutModel(\n",
        "            config_path=config,\n",
        "            model_path=model,\n",
        "            label_map=dictlabels\n",
        "        )\n",
        "    else:\n",
        "        model = lp.models.Detectron2LayoutModel(\n",
        "            config_path=config,\n",
        "            model_path=model\n",
        "        )\n",
        "    print(\"Modèle importé\")\n",
        "except Exception as error:\n",
        "    print(f\"Le modèle n'a pas été importé: {error}\")\n"
      ]
    },
    {
      "cell_type": "code",
      "source": [
        "# Define directories\n",
        "#@markdown Indiquer les chemins vers\n",
        "\n",
        "pages_directory = '/content/drive/My Drive/test/MC/' # @param {type:\"string\"}\n",
        "extractions_path = '/content/drive/My Drive/test/extracted/' # @param {type:\"string\"}\n",
        "\n",
        "if not os.path.exists(extractions_path):\n",
        "    os.makedirs(extractions_path)\n",
        "else: pass\n",
        "\n",
        "seuil_score = 0.95 # @param {type:\"string\"}\n",
        "\n",
        "# Process each page\n",
        "for page_path in glob.glob(os.path.join(pages_directory, '*.jpg')):\n",
        "    page_name = os.path.basename(page_path)\n",
        "\n",
        "    # Read and convert image\n",
        "    image = cv2.imread(page_path)\n",
        "    image = image[..., ::-1]\n",
        "\n",
        "    # Detect layout\n",
        "    layout = model.detect(image)\n",
        "    layout = [x for x in layout if x.score > seuil_score]\n",
        "    print(\"_________________Extraction of the pictures_________________\")\n",
        "\n",
        "    # Extract bounding box coordinates\n",
        "    layout_str = str(layout)\n",
        "    x1 = list(map(int, re.findall(r'x_1=(\\d+)', layout_str)))\n",
        "    y1 = list(map(int, re.findall(r'y_1=(\\d+)', layout_str)))\n",
        "    x2 = list(map(int, re.findall(r'x_2=(\\d+)', layout_str)))\n",
        "    y2 = list(map(int, re.findall(r'y_2=(\\d+)', layout_str)))\n",
        "\n",
        "    # Crop and save images\n",
        "    for i, (x1_i, y1_i, x2_i, y2_i) in enumerate(zip(x1, y1, x2, y2)):\n",
        "                img = Image.open(page_path)\n",
        "                cropped = img.crop((x1_i, y1_i, x2_i, y2_i))\n",
        "                cropped_file_name = f\"{os.path.splitext(page_name)[0]}_{i+1:02d}.jpg\"\n",
        "                cropped.save(os.path.join(extractions_path, cropped_file_name))\n"
      ],
      "metadata": {
        "id": "bVQ_ByQmx9-k",
        "colab": {
          "base_uri": "https://localhost:8080/"
        },
        "outputId": "82223506-fd57-400e-bfc5-c46dcc6ea83a"
      },
      "execution_count": 4,
      "outputs": [
        {
          "output_type": "stream",
          "name": "stdout",
          "text": [
            "_________________Extraction of the pictures_________________\n",
            "_________________Extraction of the pictures_________________\n",
            "_________________Extraction of the pictures_________________\n",
            "_________________Extraction of the pictures_________________\n",
            "_________________Extraction of the pictures_________________\n",
            "_________________Extraction of the pictures_________________\n",
            "_________________Extraction of the pictures_________________\n",
            "_________________Extraction of the pictures_________________\n",
            "_________________Extraction of the pictures_________________\n",
            "_________________Extraction of the pictures_________________\n",
            "_________________Extraction of the pictures_________________\n",
            "_________________Extraction of the pictures_________________\n",
            "_________________Extraction of the pictures_________________\n",
            "_________________Extraction of the pictures_________________\n",
            "_________________Extraction of the pictures_________________\n",
            "_________________Extraction of the pictures_________________\n",
            "_________________Extraction of the pictures_________________\n"
          ]
        }
      ]
    }
  ],
  "metadata": {
    "colab": {
      "provenance": []
    },
    "kernelspec": {
      "display_name": "Python 3 (ipykernel)",
      "language": "python",
      "name": "python3"
    },
    "language_info": {
      "codemirror_mode": {
        "name": "ipython",
        "version": 3
      },
      "file_extension": ".py",
      "mimetype": "text/x-python",
      "name": "python",
      "nbconvert_exporter": "python",
      "pygments_lexer": "ipython3",
      "version": "3.9.16"
    }
  },
  "nbformat": 4,
  "nbformat_minor": 0
}